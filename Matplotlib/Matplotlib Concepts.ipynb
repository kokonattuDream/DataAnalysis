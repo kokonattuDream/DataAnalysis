{
 "cells": [
  {
   "cell_type": "markdown",
   "metadata": {},
   "source": [
    "<img src=\"../../Pics/MLSb-T.png\" width=\"160\">\n",
    "<br><br>\n",
    "<center><u><H1>MATPLOTLIB</H1></u></center>"
   ]
  },
  {
   "cell_type": "markdown",
   "metadata": {},
   "source": [
    "\n",
    "## <u>Installation:</u> \n",
    "\n",
    "To install matplotlib you can use:\n",
    "#### conda install matplotlib or\n",
    "#### pip install matplotlib\n"
   ]
  },
  {
   "cell_type": "markdown",
   "metadata": {},
   "source": [
    "### For standard Python installations, install matplotlib using pip:\n",
    "#### python -m pip install -U pip setuptools\n",
    "#### python -m pip install matplotlib"
   ]
  },
  {
   "cell_type": "code",
   "execution_count": null,
   "metadata": {
    "collapsed": true
   },
   "outputs": [],
   "source": [
    "import matplotlib.pyplot as plt\n",
    "import numpy as np"
   ]
  },
  {
   "cell_type": "markdown",
   "metadata": {},
   "source": [
    "#### For Jupyter Notebook it is necessary to use the command in line instruction:"
   ]
  },
  {
   "cell_type": "code",
   "execution_count": null,
   "metadata": {
    "collapsed": true
   },
   "outputs": [],
   "source": [
    "%matplotlib inline"
   ]
  },
  {
   "cell_type": "markdown",
   "metadata": {},
   "source": [
    "## Basic Plot:"
   ]
  },
  {
   "cell_type": "code",
   "execution_count": null,
   "metadata": {
    "collapsed": false
   },
   "outputs": [],
   "source": [
    "X = np.linspace(-np.pi, np.pi, 300, endpoint=True)\n",
    "s,c = np.sin(X), np.cos(X)\n",
    "plt.figure(figsize=(8,5))\n",
    "plt.plot(X,s,color=\"red\", linewidth=2, linestyle=\"--\")\n",
    "plt.plot(X,c,color=\"blue\", linewidth=1, linestyle=\"-\")\n",
    "\n",
    "plt.show()"
   ]
  },
  {
   "cell_type": "markdown",
   "metadata": {},
   "source": [
    "### Setting Limits:"
   ]
  },
  {
   "cell_type": "code",
   "execution_count": null,
   "metadata": {
    "collapsed": false
   },
   "outputs": [],
   "source": [
    "plt.xlim(X.min()*1.2, X.max()*1.2)\n",
    "plt.ylim(c.min()*1.1, c.max()*1.1)"
   ]
  },
  {
   "cell_type": "markdown",
   "metadata": {},
   "source": [
    "### Setting Ticks:"
   ]
  },
  {
   "cell_type": "code",
   "execution_count": null,
   "metadata": {
    "collapsed": false
   },
   "outputs": [],
   "source": [
    "plt.xticks( [-np.pi, -np.pi/2, -np.pi/4, 0, np.pi/4, np.pi/2, np.pi])\n",
    "plt.yticks([-1, -0.5, 0, 0.5, +1])"
   ]
  },
  {
   "cell_type": "markdown",
   "metadata": {},
   "source": [
    "### Setting tick labels:"
   ]
  },
  {
   "cell_type": "code",
   "execution_count": null,
   "metadata": {
    "collapsed": false
   },
   "outputs": [],
   "source": [
    "plt.xticks([-np.pi, -np.pi/2, -np.pi/4, 0, np.pi/4, np.pi/2, np.pi],\n",
    "       [r'$-\\pi$', r'$-\\pi/2$', r'$-\\pi/4$',r'$0$', r'$-\\pi/4$',r'$+\\pi/2$', r'$+\\pi$'])"
   ]
  },
  {
   "cell_type": "markdown",
   "metadata": {},
   "source": [
    "### Adding a Legend:"
   ]
  },
  {
   "cell_type": "code",
   "execution_count": null,
   "metadata": {
    "collapsed": false
   },
   "outputs": [],
   "source": [
    "plt.plot(X, c, color=\"blue\", linewidth=2, linestyle=\"--\", label=\"Cosine\")\n",
    "plt.plot(X, s, color=\"red\",  linewidth=1.5, linestyle=\"-\", label=\"Sine\")\n",
    "\n",
    "plt.legend(loc='best',frameon=True)"
   ]
  },
  {
   "cell_type": "markdown",
   "metadata": {},
   "source": [
    "### Drawing Accumulative Areas:"
   ]
  },
  {
   "cell_type": "code",
   "execution_count": null,
   "metadata": {
    "collapsed": false
   },
   "outputs": [],
   "source": [
    "plt.fill_between(X, 0, c, c > 0, color='blue', alpha=.25)\n",
    "plt.fill_between(X, -1, s, s < 0, color='red',  alpha=.25)\n"
   ]
  },
  {
   "cell_type": "markdown",
   "metadata": {},
   "source": [
    "## SubPlots and Axes:"
   ]
  },
  {
   "cell_type": "markdown",
   "metadata": {},
   "source": [
    "### SubPlots: You need to specify the number of rows and columns and the number of the plot."
   ]
  },
  {
   "cell_type": "markdown",
   "metadata": {},
   "source": [
    "<br>\n",
    "<img src=\"../../Pics/subplots.jpg\"></img>"
   ]
  },
  {
   "cell_type": "code",
   "execution_count": null,
   "metadata": {
    "collapsed": false
   },
   "outputs": [],
   "source": [
    "x1 = np.linspace(0,5,20)\n",
    "y1 = x1** - x1\n",
    "y2 = x1 - np.sqrt(x1)\n",
    "plt.subplot(1,2,1)\n",
    "plt.plot(x1, y1, 'r--')\n",
    "plt.subplot(1,2,2)\n",
    "plt.plot(x1, y1, 'g*-')\n",
    "plt.show()"
   ]
  },
  {
   "cell_type": "markdown",
   "metadata": {},
   "source": [
    "### Object Oriented Method:"
   ]
  },
  {
   "cell_type": "code",
   "execution_count": null,
   "metadata": {
    "collapsed": false
   },
   "outputs": [],
   "source": [
    "x = np.linspace(-5,5,20)\n",
    "fig, axes = plt.subplots(nrows=1, ncols=3,figsize=(10, 5))\n",
    "\n",
    "axes[0].plot(x, x**2 - x, x, x**2)\n",
    "axes[0].set_title(\"Polynomial Functions\")\n",
    "\n",
    "axes[1].plot(x, x**2 - 0.5, x, x**3-x**2-0.5)\n",
    "axes[1].set_title(\"Polynomial Functions\")\n",
    "\n",
    "axes[2].plot(x, x*2+0.5, x, x**2)\n",
    "axes[2].set_ylim([0, 30])\n",
    "axes[2].set_xlim([0, 5])\n",
    "axes[2].set_title(\"Polynomial Functions\")\n"
   ]
  },
  {
   "cell_type": "markdown",
   "metadata": {},
   "source": [
    "### Text Annotation:"
   ]
  },
  {
   "cell_type": "code",
   "execution_count": null,
   "metadata": {
    "collapsed": false
   },
   "outputs": [],
   "source": [
    "axes[2].text(3, 5, r\"$y=2x+0.5$\", fontsize=15, color=\"blue\")\n",
    "axes[2].text(2.5, 10, r\"$y=x^2$\", fontsize=15, color=\"green\")\n",
    "fig"
   ]
  },
  {
   "cell_type": "markdown",
   "metadata": {},
   "source": [
    "### Saving Plots to File:"
   ]
  },
  {
   "cell_type": "code",
   "execution_count": null,
   "metadata": {
    "collapsed": false
   },
   "outputs": [],
   "source": [
    "fig.savefig('savefig.png',dpi=600)"
   ]
  },
  {
   "cell_type": "markdown",
   "metadata": {},
   "source": [
    "## <u>Loading images:</u>"
   ]
  },
  {
   "cell_type": "markdown",
   "metadata": {},
   "source": [
    "#### A colored image can be represented as an N x M x 3 array corresponding to N rows, M columns and 3 channels or colours for the red, green and blue on RGB representation. Also it could be 4 channels due alpha transparency channel with a notation N x M x 4."
   ]
  },
  {
   "cell_type": "code",
   "execution_count": null,
   "metadata": {
    "collapsed": false
   },
   "outputs": [],
   "source": [
    "import matplotlib.image as mpimg"
   ]
  },
  {
   "cell_type": "code",
   "execution_count": null,
   "metadata": {
    "collapsed": false
   },
   "outputs": [],
   "source": [
    "img=mpimg.imread('savefig.png')\n",
    "img.shape"
   ]
  },
  {
   "cell_type": "markdown",
   "metadata": {},
   "source": [
    "#### imshow: Showing picture"
   ]
  },
  {
   "cell_type": "code",
   "execution_count": null,
   "metadata": {
    "collapsed": false
   },
   "outputs": [],
   "source": [
    "plt.imshow(img)\n",
    "plt.colorbar()"
   ]
  },
  {
   "cell_type": "markdown",
   "metadata": {},
   "source": [
    "### References:\n",
    "#### http://www.matplotlib.org\n",
    "#### https://matplotlib.org/users/screenshots.html#simple-plot\n",
    "#### https://matplotlib.org/users/recipes.html#sharing-axis-limits-and-views"
   ]
  }
 ],
 "metadata": {
  "anaconda-cloud": {},
  "kernelspec": {
   "display_name": "Python [conda env:py35-64]",
   "language": "python",
   "name": "conda-env-py35-64-py"
  },
  "language_info": {
   "codemirror_mode": {
    "name": "ipython",
    "version": 3
   },
   "file_extension": ".py",
   "mimetype": "text/x-python",
   "name": "python",
   "nbconvert_exporter": "python",
   "pygments_lexer": "ipython3",
   "version": "3.5.3"
  }
 },
 "nbformat": 4,
 "nbformat_minor": 1
}
